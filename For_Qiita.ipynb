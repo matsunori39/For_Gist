{
  "nbformat": 4,
  "nbformat_minor": 0,
  "metadata": {
    "colab": {
      "name": "For_Qiita.ipynb",
      "provenance": [],
      "toc_visible": true,
      "authorship_tag": "ABX9TyMNLX3eJMj/MjUSHBkr/DSN",
      "include_colab_link": true
    },
    "kernelspec": {
      "name": "python3",
      "display_name": "Python 3"
    },
    "language_info": {
      "name": "python"
    }
  },
  "cells": [
    {
      "cell_type": "markdown",
      "metadata": {
        "id": "view-in-github",
        "colab_type": "text"
      },
      "source": [
        "<a href=\"https://colab.research.google.com/github/matsunori39/For_Gist/blob/main/For_Qiita.ipynb\" target=\"_parent\"><img src=\"https://colab.research.google.com/assets/colab-badge.svg\" alt=\"Open In Colab\"/></a>"
      ]
    },
    {
      "cell_type": "markdown",
      "source": [
        "# 見出し1"
      ],
      "metadata": {
        "id": "UPYsh7oLsUJ7"
      }
    },
    {
      "cell_type": "code",
      "execution_count": 1,
      "metadata": {
        "colab": {
          "base_uri": "https://localhost:8080/"
        },
        "id": "nVY8x5VusGB9",
        "outputId": "a2873dda-6d2d-4832-81a9-2a850aa31743"
      },
      "outputs": [
        {
          "output_type": "stream",
          "name": "stdout",
          "text": [
            "Hello Qiita!\n"
          ]
        }
      ],
      "source": [
        "# this is code.\n",
        "print('Hello Qiita!')"
      ]
    },
    {
      "cell_type": "markdown",
      "source": [
        "## 見出し2"
      ],
      "metadata": {
        "id": "iVTAG12BsTeb"
      }
    },
    {
      "cell_type": "code",
      "source": [
        "for i in range(5):\n",
        "  print(i)"
      ],
      "metadata": {
        "colab": {
          "base_uri": "https://localhost:8080/"
        },
        "id": "k5kKYF5CsZ7R",
        "outputId": "c593cc62-72a3-4391-b1eb-eaf20a04d823"
      },
      "execution_count": 2,
      "outputs": [
        {
          "output_type": "stream",
          "name": "stdout",
          "text": [
            "0\n",
            "1\n",
            "2\n",
            "3\n",
            "4\n"
          ]
        }
      ]
    },
    {
      "cell_type": "markdown",
      "source": [
        "0. 起\n",
        "0. 承\n",
        "0. 転\n",
        "0. 結"
      ],
      "metadata": {
        "id": "X0ACk6ygsig2"
      }
    },
    {
      "cell_type": "markdown",
      "source": [
        "# 見出し1-2"
      ],
      "metadata": {
        "id": "88uiAR-tssXz"
      }
    },
    {
      "cell_type": "code",
      "source": [
        "my_list = [j for j in range(10)]\n",
        "my_list"
      ],
      "metadata": {
        "colab": {
          "base_uri": "https://localhost:8080/"
        },
        "id": "r244QLctsyQv",
        "outputId": "d7bc9000-e779-4251-f3ce-71b198d42570"
      },
      "execution_count": 3,
      "outputs": [
        {
          "output_type": "execute_result",
          "data": {
            "text/plain": [
              "[0, 1, 2, 3, 4, 5, 6, 7, 8, 9]"
            ]
          },
          "metadata": {},
          "execution_count": 3
        }
      ]
    },
    {
      "cell_type": "code",
      "source": [
        ""
      ],
      "metadata": {
        "id": "1vecqph2s8fa"
      },
      "execution_count": null,
      "outputs": []
    }
  ]
}